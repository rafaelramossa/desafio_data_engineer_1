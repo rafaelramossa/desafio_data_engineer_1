{
 "cells": [
  {
   "cell_type": "code",
   "execution_count": 1,
   "metadata": {},
   "outputs": [],
   "source": [
    "import numpy as np"
   ]
  },
  {
   "cell_type": "markdown",
   "metadata": {},
   "source": [
    "# Exercicio 1 - Verificando se há escadinha"
   ]
  },
  {
   "cell_type": "code",
   "execution_count": 2,
   "metadata": {},
   "outputs": [],
   "source": [
    "def is_escadinha(m):\n",
    "    matriz_np = np.matrix(m)\n",
    "    if list(np.diag(matriz_np )).count(matriz_np [0,0]) > 1:\n",
    "        print('É escadinha')\n",
    "    else:\n",
    "        print('Não é escadinha')       "
   ]
  },
  {
   "cell_type": "code",
   "execution_count": 3,
   "metadata": {},
   "outputs": [],
   "source": [
    "matrizCorreta=[\n",
    "    [1000, 2500, 1200, 3000, 1234, 700, 100, 0, 800, 2400, 3500, 17634],\n",
    "    [1000, 2500, 1200, 3000, 1234, 700, 100, 0, 800, 2400, 3500, 17634],\n",
    "    [1000, 2500, 1200, 3000, 1234, 700, 100, 0, 800, 2400, 3500, 17634],\n",
    "    [1000, 2500, 1200, 3000, 1234, 700, 100, 0, 800, 2400, 3500, 17634],\n",
    "    [1000, 2500, 1200, 3000, 1234, 700, 100, 0, 800, 2400, 3500, 17634],\n",
    "    [1000, 2500, 1200, 3000, 1234, 700, 100, 0, 800, 2400, 3500, 17634],\n",
    "    [1000, 2500, 1200, 3000, 1234, 700, 100, 0, 800, 2400, 3500, 17634],\n",
    "    [1000, 2500, 1200, 3000, 1234, 700, 100, 0, 800, 2400, 3500, 17634],\n",
    "    [1000, 2500, 1200, 3000, 1234, 700, 100, 0, 800, 2400, 3500, 17634],\n",
    "    [1000, 2500, 1200, 3000, 1234, 700, 100, 0, 800, 2400, 3500, 17634],\n",
    "    [1000, 2500, 1200, 3000, 1234, 700, 100, 0, 800, 2400, 3500, 17634]\n",
    "]"
   ]
  },
  {
   "cell_type": "code",
   "execution_count": 4,
   "metadata": {},
   "outputs": [
    {
     "name": "stdout",
     "output_type": "stream",
     "text": [
      "Não é escadinha\n"
     ]
    }
   ],
   "source": [
    "is_escadinha(matrizCorreta)"
   ]
  },
  {
   "cell_type": "code",
   "execution_count": 5,
   "metadata": {},
   "outputs": [],
   "source": [
    "matrizEscadinha=[\n",
    "    [17634, 1000, 2500, 1200, 3000, 1234, 700, 100, 0, 800, 2400, 3500],\n",
    "    [3500, 17634, 1000, 2500, 1200, 3000, 1234, 700, 100, 0, 800, 2400],\n",
    "    [2400, 3500, 17634, 1000, 2500, 1200, 3000, 1234, 700, 100, 0, 800],\n",
    "    [800, 2400, 3500, 17634, 1000, 2500, 1200, 3000, 1234, 700, 100, 0],\n",
    "    [0, 800, 2400, 3500, 17634, 1000, 2500, 1200, 3000, 1234, 700, 100],\n",
    "    [100, 0, 800, 2400, 3500, 17634, 1000, 2500, 1200, 3000, 1234, 700],\n",
    "    [700, 100, 0, 800, 2400, 3500, 17634, 1000, 2500, 1200, 3000, 1234],\n",
    "    [1234, 700, 100, 0, 800, 2400, 3500, 17634, 1000, 2500, 1200, 3000],\n",
    "    [3000, 1234, 700, 100, 0, 800, 2400, 3500, 17634, 1000, 2500, 1200],\n",
    "    [1200, 3000, 1234, 700, 100, 0, 800, 2400, 3500, 17634, 1000, 2500],\n",
    "    [1000, 2500, 1200, 3000, 1234, 700, 100, 0, 800, 2400, 3500, 17634]\n",
    "]"
   ]
  },
  {
   "cell_type": "code",
   "execution_count": 6,
   "metadata": {},
   "outputs": [
    {
     "name": "stdout",
     "output_type": "stream",
     "text": [
      "É escadinha\n"
     ]
    }
   ],
   "source": [
    "is_escadinha(matrizEscadinha)"
   ]
  },
  {
   "cell_type": "markdown",
   "metadata": {},
   "source": [
    "# Exercicio 2 - Retornando a matriz correta"
   ]
  },
  {
   "cell_type": "code",
   "execution_count": 7,
   "metadata": {},
   "outputs": [],
   "source": [
    "def matriz_correta(m):\n",
    "    matriz_np = np.matrix(m)\n",
    "    maior=matriz_np[0].max()\n",
    "    linha= len(matriz_np)\n",
    "    idx=np.argwhere(matriz_np ==maior)\n",
    "    print(matriz_np[(np.argwhere(idx[:,1] ==linha))])\n",
    "    \n",
    "    \n"
   ]
  },
  {
   "cell_type": "code",
   "execution_count": 8,
   "metadata": {},
   "outputs": [
    {
     "name": "stdout",
     "output_type": "stream",
     "text": [
      "[[[ 1000  2500  1200  3000  1234   700   100     0   800  2400  3500\n",
      "   17634]]]\n"
     ]
    }
   ],
   "source": [
    "matriz_correta(matrizEscadinha)"
   ]
  },
  {
   "cell_type": "code",
   "execution_count": null,
   "metadata": {},
   "outputs": [],
   "source": []
  }
 ],
 "metadata": {
  "kernelspec": {
   "display_name": "Python 3",
   "language": "python",
   "name": "python3"
  },
  "language_info": {
   "codemirror_mode": {
    "name": "ipython",
    "version": 3
   },
   "file_extension": ".py",
   "mimetype": "text/x-python",
   "name": "python",
   "nbconvert_exporter": "python",
   "pygments_lexer": "ipython3",
   "version": "3.7.3"
  }
 },
 "nbformat": 4,
 "nbformat_minor": 2
}
