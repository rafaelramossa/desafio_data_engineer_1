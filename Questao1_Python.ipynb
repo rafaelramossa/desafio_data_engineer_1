{
 "cells": [
  {
   "cell_type": "markdown",
   "metadata": {},
   "source": [
    "### Amostra de Matrizes"
   ]
  },
  {
   "cell_type": "code",
   "execution_count": 1,
   "metadata": {},
   "outputs": [],
   "source": [
    "matrizCorreta = [\n",
    " [1, 2, 3, 4, 5, 6, 7, 8, 9, 10, 11, 12, 78],\n",
    " [1, 2, 3, 4, 5, 6, 7, 8, 9, 10, 11, 12, 78],\n",
    " [1, 2, 3, 4, 5, 6, 7, 8, 9, 10, 11, 12, 78],\n",
    " [1, 2, 3, 4, 5, 6, 7, 8, 9, 10, 11, 12, 78],\n",
    " [1, 2, 3, 4, 5, 6, 7, 8, 9, 10, 11, 12, 78],\n",
    " [1, 2, 3, 4, 5, 6, 7, 8, 9, 10, 11, 12, 78],\n",
    " [1, 2, 3, 4, 5, 6, 7, 8, 9, 10, 11, 12, 78],\n",
    " [1, 2, 3, 4, 5, 6, 7, 8, 9, 10, 11, 12, 78],\n",
    " [1, 2, 3, 4, 5, 6, 7, 8, 9, 10, 11, 12, 78],\n",
    " [1, 2, 3, 4, 5, 6, 7, 8, 9, 10, 11, 12, 78],\n",
    " [1, 2, 3, 4, 5, 6, 7, 8, 9, 10, 11, 12, 78],\n",
    " [1, 2, 3, 4, 5, 6, 7, 8, 9, 10, 11, 12, 78]\n",
    " ]\n",
    "\n",
    "matrizEscadinha = [\n",
    " [11, 12, 78, 1, 2, 3, 4, 5, 6, 7, 8, 9, 10],\n",
    " [10, 11, 12, 78, 1, 2, 3, 4, 5, 6, 7, 8, 9],\n",
    " [9, 10, 11, 12, 78, 1, 2, 3, 4, 5, 6, 7, 8],\n",
    " [8, 9, 10, 11, 12, 78, 1, 2, 3, 4, 5, 6, 7],\n",
    " [7, 8, 9, 10, 11, 12, 78, 1, 2, 3, 4, 5, 6],\n",
    " [6, 7, 8, 9, 10, 11, 12, 78, 1, 2, 3, 4, 5],\n",
    " [5, 6, 7, 8, 9, 10, 11, 12, 78, 1, 2, 3, 4],\n",
    " [4, 5, 6, 7, 8, 9, 10, 11, 12, 78, 1, 2, 3],\n",
    " [3, 4, 5, 6, 7, 8, 9, 10, 11, 12, 78, 1, 2],\n",
    " [2, 3, 4, 5, 6, 7, 8, 9, 10, 11, 12, 78, 1], [1, 2, 3, 4, 5, 6, 7, 8, 9, 10, 11, 12, 78],\n",
    " [78, 1, 2, 3, 4, 5, 6, 7, 8, 9, 10, 11, 12]\n",
    " ]\n",
    "\n",
    "matrizEscadinhaEstendida = [\n",
    " [11, 12, 78, 1, 2, 3, 4, 5, 6, 7, 8, 9, 10],\n",
    " [10, 11, 12, 78, 1, 2, 3, 4, 5, 6, 7, 8, 9],\n",
    " [9, 10, 11, 12, 78, 1, 2, 3, 4, 5, 6, 7, 8],\n",
    " [8, 9, 10, 11, 12, 78, 1, 2, 3, 4, 5, 6, 7],\n",
    " [7, 8, 9, 10, 11, 12, 78, 1, 2, 3, 4, 5, 6],\n",
    " [6, 7, 8, 9, 10, 11, 12, 78, 1, 2, 3, 4, 5],\n",
    " [5, 6, 7, 8, 9, 10, 11, 12, 78, 1, 2, 3, 4],\n",
    " [4, 5, 6, 7, 8, 9, 10, 11, 12, 78, 1, 2, 3],\n",
    " [3, 4, 5, 6, 7, 8, 9, 10, 11, 12, 78, 1, 2],\n",
    " [2, 3, 4, 5, 6, 7, 8, 9, 10, 11, 12, 78, 1],\n",
    " [1, 2, 3, 4, 5, 6, 7, 8, 9, 10, 11, 12, 78],\n",
    " [78, 1, 2, 3, 4, 5, 6, 7, 8, 9, 10, 11, 12],\n",
    " [12, 78, 1, 2, 3, 4, 5, 6, 7, 8, 9, 10, 11],\n",
    " [11, 12, 78, 1, 2, 3, 4, 5, 6, 7, 8, 9, 10],\n",
    " [10, 11, 12, 78, 1, 2, 3, 4, 5, 6, 7, 8, 9],\n",
    " [9, 10, 11, 12, 78, 1, 2, 3, 4, 5, 6, 7, 8],\n",
    " [8, 9, 10, 11, 12, 78, 1, 2, 3, 4, 5, 6, 7],\n",
    " [7, 8, 9, 10, 11, 12, 78, 1, 2, 3, 4, 5, 6],\n",
    " [6, 7, 8, 9, 10, 11, 12, 78, 1, 2, 3, 4, 5],\n",
    " [5, 6, 7, 8, 9, 10, 11, 12, 78, 1, 2, 3, 4],\n",
    " ]\n",
    "\n",
    "\n",
    "\n",
    "matrizEscadinhaReversa = [\n",
    " [5, 6, 7, 8, 9, 10, 11, 12, 78, 1, 2, 3, 4],\n",
    " [6, 7, 8, 9, 10, 11, 12, 78,1, 2, 3, 4, 5],\n",
    " [7, 8, 9, 10, 11, 12, 78,1, 2, 3, 4, 5, 6],\n",
    " [8, 9, 10, 11, 12, 78,1, 2, 3, 4, 5, 6, 7],\n",
    " [9, 10, 11, 12, 78, 1, 2, 3, 4, 5, 6, 7, 8],\n",
    " [10, 11, 12, 78, 1, 2, 3, 4, 5, 6, 7, 8, 9],\n",
    " [11, 12, 78, 1, 2, 3, 4, 5, 6, 7, 8, 9, 10],\n",
    " [12, 78, 1, 2, 3, 4, 5, 6, 7, 8, 9, 10, 11],\n",
    " [78, 1, 2, 3, 4, 5, 6, 7, 8, 9, 10, 11, 12],\n",
    " [1, 2, 3, 4, 5, 6, 7, 8, 9, 10, 11, 12, 78],\n",
    " [2, 3, 4, 5, 6, 7, 8, 9, 10, 11, 12, 78, 1],\n",
    " [3, 4, 5, 6, 7, 8, 9, 10, 11, 12, 78, 1, 2]\n",
    " ]\n",
    "\n",
    "matrizCorretaANP=[\n",
    "    [1000, 2500, 1200, 3000, 1234, 700, 100, 0, 800, 2400, 3500, 17634],\n",
    "    [1000, 2500, 1200, 3000, 1234, 700, 100, 0, 800, 2400, 3500, 17634],\n",
    "    [1000, 2500, 1200, 3000, 1234, 700, 100, 0, 800, 2400, 3500, 17634],\n",
    "    [1000, 2500, 1200, 3000, 1234, 700, 100, 0, 800, 2400, 3500, 17634],\n",
    "    [1000, 2500, 1200, 3000, 1234, 700, 100, 0, 800, 2400, 3500, 17634],\n",
    "    [1000, 2500, 1200, 3000, 1234, 700, 100, 0, 800, 2400, 3500, 17634],\n",
    "    [1000, 2500, 1200, 3000, 1234, 700, 100, 0, 800, 2400, 3500, 17634],\n",
    "    [1000, 2500, 1200, 3000, 1234, 700, 100, 0, 800, 2400, 3500, 17634],\n",
    "    [1000, 2500, 1200, 3000, 1234, 700, 100, 0, 800, 2400, 3500, 17634],\n",
    "    [1000, 2500, 1200, 3000, 1234, 700, 100, 0, 800, 2400, 3500, 17634],\n",
    "    [1000, 2500, 1200, 3000, 1234, 700, 100, 0, 800, 2400, 3500, 17634]\n",
    "]\n",
    "\n",
    "matrizEscadinhaANP=[\n",
    "    [17634, 1000, 2500, 1200, 3000, 1234, 700, 100, 0, 800, 2400, 3500],\n",
    "    [3500, 17634, 1000, 2500, 1200, 3000, 1234, 700, 100, 0, 800, 2400],\n",
    "    [2400, 3500, 17634, 1000, 2500, 1200, 3000, 1234, 700, 100, 0, 800],\n",
    "    [800, 2400, 3500, 17634, 1000, 2500, 1200, 3000, 1234, 700, 100, 0],\n",
    "    [0, 800, 2400, 3500, 17634, 1000, 2500, 1200, 3000, 1234, 700, 100],\n",
    "    [100, 0, 800, 2400, 3500, 17634, 1000, 2500, 1200, 3000, 1234, 700],\n",
    "    [700, 100, 0, 800, 2400, 3500, 17634, 1000, 2500, 1200, 3000, 1234],\n",
    "    [1234, 700, 100, 0, 800, 2400, 3500, 17634, 1000, 2500, 1200, 3000],\n",
    "    [3000, 1234, 700, 100, 0, 800, 2400, 3500, 17634, 1000, 2500, 1200],\n",
    "    [1200, 3000, 1234, 700, 100, 0, 800, 2400, 3500, 17634, 1000, 2500],\n",
    "    [1000, 2500, 1200, 3000, 1234, 700, 100, 0, 800, 2400, 3500, 17634]\n",
    "]"
   ]
  },
  {
   "cell_type": "markdown",
   "metadata": {},
   "source": [
    "### Importação do Pacote NumPY"
   ]
  },
  {
   "cell_type": "code",
   "execution_count": 2,
   "metadata": {},
   "outputs": [],
   "source": [
    "import numpy as np"
   ]
  },
  {
   "cell_type": "markdown",
   "metadata": {},
   "source": [
    "### Criação das Funções"
   ]
  },
  {
   "cell_type": "code",
   "execution_count": 3,
   "metadata": {},
   "outputs": [],
   "source": [
    "def count_escadinha(matriz, posicao):\n",
    "    matriz_np = np.matrix(matriz)\n",
    "    return list(np.diag(matriz_np, k=posicao)).count(matriz_np[0,posicao])"
   ]
  },
  {
   "cell_type": "code",
   "execution_count": 4,
   "metadata": {},
   "outputs": [],
   "source": [
    "def is_escadinha(m):\n",
    "    idx = 0\n",
    "    max_idx = len(m[0])-1\n",
    "    for i in m[0]:\n",
    "        if idx != max_idx:\n",
    "            if count_escadinha(m,idx) > 1:\n",
    "                pass\n",
    "                if idx == max_idx -1:\n",
    "                    print('Matriz Escadinha')\n",
    "            else:\n",
    "                if count_escadinha(np.fliplr(m),0) > 1:\n",
    "                    print('Matriz Invertida')\n",
    "                    break \n",
    "                else:\n",
    "                    print('Matriz Correta')\n",
    "                    break\n",
    "        idx = idx + 1 "
   ]
  },
  {
   "cell_type": "code",
   "execution_count": 5,
   "metadata": {},
   "outputs": [],
   "source": [
    "def matriz_correta(m):\n",
    "    matriz_np = np.matrix(m)\n",
    "    maior=matriz_np[0].max()\n",
    "    linha= len(matriz_np)\n",
    "    idx=np.argwhere(matriz_np ==maior)\n",
    "    resultado=matriz_np[(np.argwhere(idx[:,1] ==linha))]\n",
    "    for i in m:\n",
    "        i = resultado\n",
    "        print(i)"
   ]
  },
  {
   "cell_type": "markdown",
   "metadata": {},
   "source": [
    "### Validando as Matrizes"
   ]
  },
  {
   "cell_type": "code",
   "execution_count": 6,
   "metadata": {},
   "outputs": [
    {
     "name": "stdout",
     "output_type": "stream",
     "text": [
      "Matriz Correta\n"
     ]
    }
   ],
   "source": [
    "is_escadinha(matrizCorreta)"
   ]
  },
  {
   "cell_type": "code",
   "execution_count": 7,
   "metadata": {},
   "outputs": [
    {
     "name": "stdout",
     "output_type": "stream",
     "text": [
      "Matriz Escadinha\n"
     ]
    }
   ],
   "source": [
    "is_escadinha(matrizEscadinha)"
   ]
  },
  {
   "cell_type": "code",
   "execution_count": 8,
   "metadata": {},
   "outputs": [
    {
     "name": "stdout",
     "output_type": "stream",
     "text": [
      "Matriz Escadinha\n"
     ]
    }
   ],
   "source": [
    "is_escadinha(matrizEscadinhaEstendida)"
   ]
  },
  {
   "cell_type": "code",
   "execution_count": 9,
   "metadata": {},
   "outputs": [
    {
     "name": "stdout",
     "output_type": "stream",
     "text": [
      "Matriz Invertida\n"
     ]
    }
   ],
   "source": [
    "is_escadinha(matrizEscadinhaReversa)"
   ]
  },
  {
   "cell_type": "code",
   "execution_count": 10,
   "metadata": {},
   "outputs": [
    {
     "name": "stdout",
     "output_type": "stream",
     "text": [
      "Matriz Correta\n"
     ]
    }
   ],
   "source": [
    "is_escadinha(matrizCorretaANP)"
   ]
  },
  {
   "cell_type": "code",
   "execution_count": 11,
   "metadata": {},
   "outputs": [
    {
     "name": "stdout",
     "output_type": "stream",
     "text": [
      "Matriz Escadinha\n"
     ]
    }
   ],
   "source": [
    "is_escadinha(matrizEscadinhaANP)"
   ]
  },
  {
   "cell_type": "markdown",
   "metadata": {},
   "source": [
    "### Retornando a Matriz Correta"
   ]
  },
  {
   "cell_type": "code",
   "execution_count": 13,
   "metadata": {},
   "outputs": [
    {
     "name": "stdout",
     "output_type": "stream",
     "text": [
      "[[[ 1  2  3  4  5  6  7  8  9 10 11 12 78]]]\n",
      "[[[ 1  2  3  4  5  6  7  8  9 10 11 12 78]]]\n",
      "[[[ 1  2  3  4  5  6  7  8  9 10 11 12 78]]]\n",
      "[[[ 1  2  3  4  5  6  7  8  9 10 11 12 78]]]\n",
      "[[[ 1  2  3  4  5  6  7  8  9 10 11 12 78]]]\n",
      "[[[ 1  2  3  4  5  6  7  8  9 10 11 12 78]]]\n",
      "[[[ 1  2  3  4  5  6  7  8  9 10 11 12 78]]]\n",
      "[[[ 1  2  3  4  5  6  7  8  9 10 11 12 78]]]\n",
      "[[[ 1  2  3  4  5  6  7  8  9 10 11 12 78]]]\n",
      "[[[ 1  2  3  4  5  6  7  8  9 10 11 12 78]]]\n",
      "[[[ 1  2  3  4  5  6  7  8  9 10 11 12 78]]]\n",
      "[[[ 1  2  3  4  5  6  7  8  9 10 11 12 78]]]\n"
     ]
    }
   ],
   "source": [
    "matriz_correta(matrizEscadinha)"
   ]
  },
  {
   "cell_type": "code",
   "execution_count": 14,
   "metadata": {},
   "outputs": [
    {
     "name": "stdout",
     "output_type": "stream",
     "text": [
      "[[[ 1000  2500  1200  3000  1234   700   100     0   800  2400  3500\n",
      "   17634]]]\n",
      "[[[ 1000  2500  1200  3000  1234   700   100     0   800  2400  3500\n",
      "   17634]]]\n",
      "[[[ 1000  2500  1200  3000  1234   700   100     0   800  2400  3500\n",
      "   17634]]]\n",
      "[[[ 1000  2500  1200  3000  1234   700   100     0   800  2400  3500\n",
      "   17634]]]\n",
      "[[[ 1000  2500  1200  3000  1234   700   100     0   800  2400  3500\n",
      "   17634]]]\n",
      "[[[ 1000  2500  1200  3000  1234   700   100     0   800  2400  3500\n",
      "   17634]]]\n",
      "[[[ 1000  2500  1200  3000  1234   700   100     0   800  2400  3500\n",
      "   17634]]]\n",
      "[[[ 1000  2500  1200  3000  1234   700   100     0   800  2400  3500\n",
      "   17634]]]\n",
      "[[[ 1000  2500  1200  3000  1234   700   100     0   800  2400  3500\n",
      "   17634]]]\n",
      "[[[ 1000  2500  1200  3000  1234   700   100     0   800  2400  3500\n",
      "   17634]]]\n",
      "[[[ 1000  2500  1200  3000  1234   700   100     0   800  2400  3500\n",
      "   17634]]]\n"
     ]
    }
   ],
   "source": [
    "matriz_correta(matrizEscadinhaANP)"
   ]
  },
  {
   "cell_type": "code",
   "execution_count": null,
   "metadata": {},
   "outputs": [],
   "source": []
  }
 ],
 "metadata": {
  "kernelspec": {
   "display_name": "Python 3",
   "language": "python",
   "name": "python3"
  },
  "language_info": {
   "codemirror_mode": {
    "name": "ipython",
    "version": 3
   },
   "file_extension": ".py",
   "mimetype": "text/x-python",
   "name": "python",
   "nbconvert_exporter": "python",
   "pygments_lexer": "ipython3",
   "version": "3.6.6"
  }
 },
 "nbformat": 4,
 "nbformat_minor": 2
}
